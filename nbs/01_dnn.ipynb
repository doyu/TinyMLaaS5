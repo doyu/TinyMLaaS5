{
 "cells": [
  {
   "cell_type": "markdown",
   "id": "aec098fa",
   "metadata": {},
   "source": [
    "# Train DNN (MNIST) in this notebook"
   ]
  }
 ],
 "metadata": {
  "kernelspec": {
   "display_name": "python3",
   "language": "python",
   "name": "python3"
  }
 },
 "nbformat": 4,
 "nbformat_minor": 5
}
